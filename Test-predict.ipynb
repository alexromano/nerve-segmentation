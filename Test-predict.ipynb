{
 "cells": [
  {
   "cell_type": "code",
   "execution_count": 97,
   "metadata": {
    "collapsed": true
   },
   "outputs": [],
   "source": [
    "import numpy as np\n",
    "from datetime import datetime as dt\n",
    "from PIL import Image\n",
    "import os\n",
    "import csv\n",
    "import cv2\n",
    "from tensorflow.keras.models import Model, load_model\n",
    "from train import preprocess, dice\n",
    "from submission import run_length_enc\n",
    "from sklearn.model_selection import train_test_split\n",
    "import matplotlib.pyplot as plt\n",
    "%matplotlib inline"
   ]
  },
  {
   "cell_type": "code",
   "execution_count": 2,
   "metadata": {
    "collapsed": true
   },
   "outputs": [],
   "source": [
    "original_width = 580\n",
    "original_height = 420\n",
    "img_width = 128\n",
    "img_height = 128"
   ]
  },
  {
   "cell_type": "code",
   "execution_count": 160,
   "metadata": {
    "collapsed": false
   },
   "outputs": [
    {
     "name": "stdout",
     "output_type": "stream",
     "text": [
      "loading test images\n"
     ]
    }
   ],
   "source": [
    "print(\"loading test images\")\n",
    "test_path = \"ultrasound-nerve-segmentation/test/\"\n",
    "train_path = \"ultrasound-nerve-segmentation/train/\"\n",
    "files = os.listdir(test_path)\n",
    "image_names = []\n",
    "for f in files:\n",
    "    if '_mask' not in f:\n",
    "        image_names.append(os.path.splitext(f)[0])  \n",
    "# train_names, test_names = train_test_split(image_names, test_size=0.1)\n",
    "test_names = image_names\n",
    "test_imgs = []\n",
    "for f in test_names:\n",
    "    if \"_mask\" not in f:\n",
    "        im = Image.open(test_path+f+\".tif\")\n",
    "        # TODO: try chaning this to cv2.resize and see?\n",
    "        im_arr = np.asarray(im.resize((img_width, img_height)))\n",
    "        test_imgs.append(im_arr)\n",
    "mean = np.mean(test_imgs)\n",
    "std = np.std(test_imgs)\n",
    "test_imgs -= mean\n",
    "test_imgs /= std\n",
    "test_imgs = np.expand_dims(np.array(test_imgs, dtype='float32'), axis=3)"
   ]
  },
  {
   "cell_type": "code",
   "execution_count": 161,
   "metadata": {
    "collapsed": false
   },
   "outputs": [
    {
     "name": "stdout",
     "output_type": "stream",
     "text": [
      "loading model and predicting\n",
      "5508/5508 [==============================] - 470s 85ms/sample\n"
     ]
    }
   ],
   "source": [
    "print(\"loading model and predicting\")\n",
    "# load model and predict on images\n",
    "model = load_model('model_weights.hd5', compile=False)\n",
    "img_masks = model.predict(test_imgs, batch_size=256, verbose=1)"
   ]
  },
  {
   "cell_type": "code",
   "execution_count": 164,
   "metadata": {
    "collapsed": true
   },
   "outputs": [],
   "source": [
    "# resize\n",
    "masks_resized = np.zeros((img_masks.shape[0], original_height, original_width))\n",
    "for i in range(img_masks.shape[0]):\n",
    "    im_resized = np.array(cv2.resize(img_masks[i], (original_width, original_height)))\n",
    "    masks_resized[i] = im_resized"
   ]
  },
  {
   "cell_type": "code",
   "execution_count": 156,
   "metadata": {
    "collapsed": false
   },
   "outputs": [
    {
     "name": "stdout",
     "output_type": "stream",
     "text": [
      "Loading ground truth\n"
     ]
    }
   ],
   "source": [
    "print(\"Loading ground truth\")\n",
    "# load ground truth masks for these images\n",
    "labels = np.zeros((len(test_names), original_height, original_width))\n",
    "for i in range(len(test_names)):\n",
    "    im = Image.open(\"ultrasound-nerve-segmentation/train/\"+test_names[i]+ \"_mask.tif\")\n",
    "    labels[i] = np.array(im)"
   ]
  },
  {
   "cell_type": "code",
   "execution_count": 66,
   "metadata": {
    "collapsed": true
   },
   "outputs": [],
   "source": [
    "# get dice between ground truth and predicted\n",
    "d = dice(labels, masks_resized)"
   ]
  },
  {
   "cell_type": "code",
   "execution_count": 67,
   "metadata": {
    "collapsed": false
   },
   "outputs": [
    {
     "name": "stdout",
     "output_type": "stream",
     "text": [
      "1.4149913388990185\n"
     ]
    }
   ],
   "source": [
    "import tensorflow as tf\n",
    "print(tf.Session().run(d))"
   ]
  },
  {
   "cell_type": "code",
   "execution_count": 167,
   "metadata": {
    "collapsed": false
   },
   "outputs": [
    {
     "name": "stdout",
     "output_type": "stream",
     "text": [
      "5508\n",
      "4292\n",
      "0.7792302106027597\n"
     ]
    }
   ],
   "source": [
    "labels.shape\n",
    "# # plt.subplot(521)\n",
    "counter = 0\n",
    "l = len(masks_resized)\n",
    "print(l)\n",
    "for i in masks_resized:\n",
    "    if np.all(i<0.5):\n",
    "        counter += 1\n",
    "print(counter)\n",
    "print(counter / l)"
   ]
  },
  {
   "cell_type": "code",
   "execution_count": 102,
   "metadata": {
    "collapsed": false
   },
   "outputs": [
    {
     "name": "stdout",
     "output_type": "stream",
     "text": [
      "126560 20 126593 30 126980 20 127013 30 127400 20 127433 30 127820 20 127853 30 128240 20 128273 30 128654 92 129074 92 129494 92 129914 92 130331 108 130751 108 131171 108 131591 108 132011 108 132431 118 132851 118 133271 118 133691 118 134111 128 134531 128 134951 128 135371 128 135791 128 136207 138 136627 138 137047 138 137467 138 137887 138 138307 141 138727 141 139147 141 139567 141 139987 145 140407 145 140827 145 141247 145 141667 145 142087 145 142507 145 142927 145 143347 145 143771 144 144191 144 144611 144 145031 144 145451 144 145871 144 146291 144 146711 144 147131 144 147551 144 147971 144 148391 144 148811 144 149231 144 149654 138 150074 138 150494 138 150914 138 151340 128 151760 128 152180 128 152600 128 153020 128 153450 118 153870 118 154290 118 154710 118 155157 85 155577 85 155997 85 156417 85 156837 85 157280 45 157700 45 158120 45 158540 45\n"
     ]
    }
   ],
   "source": [
    "#TODO: run length encode the masks, \n",
    "# then decode them, then view the decoding\n",
    "# then see if the decoding matches the unencoded masks\n",
    "encoded = run_length_enc(masks_resized[510])\n",
    "print(encoded)"
   ]
  },
  {
   "cell_type": "code",
   "execution_count": 116,
   "metadata": {
    "collapsed": false
   },
   "outputs": [
    {
     "name": "stdout",
     "output_type": "stream",
     "text": [
      "126560\n",
      "126593\n",
      "126980\n",
      "127013\n",
      "127400\n",
      "127433\n",
      "127820\n",
      "127853\n",
      "128240\n",
      "128273\n",
      "128654\n",
      "129074\n",
      "129494\n",
      "129914\n",
      "130331\n",
      "130751\n",
      "131171\n",
      "131591\n",
      "132011\n",
      "132431\n",
      "132851\n",
      "133271\n",
      "133691\n",
      "134111\n",
      "134531\n",
      "134951\n",
      "135371\n",
      "135791\n",
      "136207\n",
      "136627\n",
      "137047\n",
      "137467\n",
      "137887\n",
      "138307\n",
      "138727\n",
      "139147\n",
      "139567\n",
      "139987\n",
      "140407\n",
      "140827\n",
      "141247\n",
      "141667\n",
      "142087\n",
      "142507\n",
      "142927\n",
      "143347\n",
      "143771\n",
      "144191\n",
      "144611\n",
      "145031\n",
      "145451\n",
      "145871\n",
      "146291\n",
      "146711\n",
      "147131\n",
      "147551\n",
      "147971\n",
      "148391\n",
      "148811\n",
      "149231\n",
      "149654\n",
      "150074\n",
      "150494\n",
      "150914\n",
      "151340\n",
      "151760\n",
      "152180\n",
      "152600\n",
      "153020\n",
      "153450\n",
      "153870\n",
      "154290\n",
      "154710\n",
      "155157\n",
      "155577\n",
      "155997\n",
      "156417\n",
      "156837\n",
      "157280\n",
      "157700\n",
      "158120\n",
      "158540\n"
     ]
    },
    {
     "data": {
      "image/png": "[encoded data removed]",
      "text/plain": [
       "<Figure size 432x288 with 1 Axes>"
      ]
     },
     "metadata": {
      "needs_background": "light"
     },
     "output_type": "display_data"
    }
   ],
   "source": [
    "res = np.zeros((420, 580))\n",
    "enc_list = encoded.split(\" \")\n",
    "for i in range(0,len(enc_list),2):\n",
    "    print(enc_list[i])\n",
    "    for j in range(int(enc_list[i]), int(enc_list[i+1])):\n",
    "        print(j)\n"
   ]
  },
  {
   "cell_type": "code",
   "execution_count": null,
   "metadata": {
    "collapsed": true
   },
   "outputs": [],
   "source": []
  }
 ],
 "metadata": {
  "kernelspec": {
   "display_name": "Python 3",
   "language": "python",
   "name": "python3"
  },
  "language_info": {
   "codemirror_mode": {
    "name": "ipython",
    "version": 3
   },
   "file_extension": ".py",
   "mimetype": "text/x-python",
   "name": "python",
   "nbconvert_exporter": "python",
   "pygments_lexer": "ipython3",
   "version": "3.6.8"
  }
 },
 "nbformat": 4,
 "nbformat_minor": 2
}
