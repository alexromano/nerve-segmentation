{
 "cells": [
  {
   "cell_type": "code",
   "execution_count": 73,
   "metadata": {
    "collapsed": false
   },
   "outputs": [],
   "source": [
    "import numpy as np\n",
    "from sklearn.model_selection import train_test_split\n",
    "import os\n",
    "import matplotlib.pyplot as plt\n",
    "from PIL import Image\n",
    "import tensorflow as tf\n",
    "from tensorflow.keras.models import Model\n",
    "from tensorflow.keras.callbacks import ModelCheckpoint\n",
    "import tensorflow.keras.backend as K\n",
    "from tensorflow.keras.layers import Input, Conv2D, Conv2DTranspose, MaxPooling2D, concatenate\n",
    "from tensorflow.keras.optimizers import Adam\n",
    "\n",
    "%matplotlib inline"
   ]
  },
  {
   "cell_type": "code",
   "execution_count": 200,
   "metadata": {
    "collapsed": false
   },
   "outputs": [],
   "source": [
    "files = os.listdir(\"ultrasound-nerve-segmentation/train\")\n",
    "image_names = []\n",
    "for f in files:\n",
    "    if '_mask' not in f:\n",
    "        image_names.append(os.path.splitext(f)[0])\n",
    "        \n",
    "train_names, test_names = train_test_split(image_names[:600], test_size=0.1)\n",
    "train_len = len(train_names)\n",
    "test_len = len(test_names)"
   ]
  },
  {
   "cell_type": "code",
   "execution_count": 201,
   "metadata": {
    "collapsed": true
   },
   "outputs": [],
   "source": [
    "img_width = 128\n",
    "img_height = 128\n",
    "batch_size = 8\n",
    "learning_rate = 1e-5"
   ]
  },
  {
   "cell_type": "code",
   "execution_count": 202,
   "metadata": {
    "collapsed": true
   },
   "outputs": [],
   "source": [
    "# a smoothed version of dice coefficient\n",
    "def dice(y, y_pred):\n",
    "    intersection = K.sum(K.flatten(y) * K.flatten(y_pred))\n",
    "    return (2.0 * intersection + 1) / (K.sum(y) + K.sum(y_pred) + 1)\n",
    "\n",
    "def dice_loss(y, y_pred):\n",
    "    return -tf.log(dice(y, y_pred))"
   ]
  },
  {
   "cell_type": "code",
   "execution_count": 208,
   "metadata": {
    "collapsed": false
   },
   "outputs": [],
   "source": [
    "# Build U-Net/FCN style model\n",
    "def build_net(img_width, img_height, batch_size, learning_rate):\n",
    "    input_images = Input(shape=(img_width,img_height,1), name='input')\n",
    "    conv1 = Conv2D(32, (3,3), activation='relu', padding='same')(input_images)\n",
    "    conv1 = Conv2D(32, (3,3), activation='relu', padding='same')(conv1)\n",
    "    pool1 = MaxPooling2D(2)(conv1)\n",
    "\n",
    "    conv2 = Conv2D(64, (3,3), activation='relu', padding='same')(pool1)\n",
    "    conv2 = Conv2D(64, (3,3), activation='relu', padding='same')(conv2)\n",
    "    pool2 = MaxPooling2D(2)(conv2)\n",
    "\n",
    "    conv3 = Conv2D(128, (3,3), activation='relu', padding='same')(pool2)\n",
    "    conv3 = Conv2D(128, (3,3), activation='relu', padding='same')(conv3)\n",
    "    pool3 = MaxPooling2D(2)(conv3)\n",
    "\n",
    "    conv4 = Conv2D(256, (3,3), activation='relu', padding='same')(pool3)\n",
    "    conv4 = Conv2D(256, (3,3), activation='relu', padding='same')(conv4)\n",
    "    pool4 = MaxPooling2D(2)(conv4)\n",
    "\n",
    "    conv5 = Conv2D(512, (3,3), activation='relu', padding='same')(pool4)\n",
    "    conv5 = Conv2D(512, (3,3), activation='relu', padding='same')(conv5)\n",
    "\n",
    "    conv6 = concatenate([Conv2DTranspose(256, (2,2), strides=(2,2), padding='same')(conv5), conv4])\n",
    "    conv6 = Conv2D(256, (3,3), activation='relu', padding='same')(conv6)\n",
    "    conv6 = Conv2D(256, (3,3), activation='relu', padding='same')(conv6)\n",
    "\n",
    "    conv7 = concatenate([Conv2DTranspose(128, (2,2), strides=(2,2), padding='same')(conv6), conv3])\n",
    "    conv7 = Conv2D(128, (3,3), activation='relu', padding='same')(conv7)\n",
    "    conv7 = Conv2D(128, (3,3), activation='relu', padding='same')(conv7)\n",
    "\n",
    "    conv8 = concatenate([Conv2DTranspose(64, (2,2), strides=(2,2), padding='same')(conv7), conv2])\n",
    "    conv8 = Conv2D(64, (3,3), activation='relu', padding='same')(conv8)\n",
    "    conv8 = Conv2D(64, (3,3), activation='relu', padding='same')(conv8)\n",
    "\n",
    "    conv9 = concatenate([Conv2DTranspose(32, (2,2), strides=(2,2), padding='same')(conv8), conv1])\n",
    "    conv9 = Conv2D(32, (3,3), activation='relu', padding='same')(conv9)\n",
    "    conv9 = Conv2D(32, (3,3), activation='relu', padding='same')(conv9)\n",
    "\n",
    "    output = Conv2D(1, (1,1), activation='sigmoid')(conv9)\n",
    "\n",
    "    model = Model(inputs=[input_images], outputs=[output])\n",
    "    model.compile(optimizer=Adam(lr=learning_rate), loss=dice_loss, metrics=[dice])\n",
    "    \n",
    "    return model"
   ]
  },
  {
   "cell_type": "code",
   "execution_count": 209,
   "metadata": {
    "collapsed": true
   },
   "outputs": [],
   "source": [
    "def preprocess(im):\n",
    "    im_arr = np.asarray(im.resize((img_width, img_height)))\n",
    "    return im_arr\n",
    "\n",
    "def augment(img, label):\n",
    "    #flip h\n",
    "    flipped_h = np.flip(img, axis=0)\n",
    "    flipped_h_lb = np.flip(label, axis=0)\n",
    "    #flip v\n",
    "    flipped_v = np.flip(img, axis=1)\n",
    "    flipped_v_lb = np.flip(label, axis=1)\n",
    "    #rotate\n",
    "    rotate_90 = np.rot90(img)\n",
    "    rotate_90_lb = np.rot90(label)\n",
    "    rotate_180 = np.rot90(rotate_90)\n",
    "    rotate_180_lb = np.rot90(rotate_90_lb)\n",
    "    rotate_270 = np.rot90(rotate_180)\n",
    "    rotate_270_lb = np.rot90(rotate_180_lb)\n",
    "    aug_ims = np.array([flipped_h, flipped_v, rotate_90, rotate_180, rotate_270])\n",
    "    aug_lbs = np.array([flipped_h_lb, flipped_v_lb, rotate_90_lb, rotate_180_lb, rotate_270_lb])\n",
    "    return (aug_ims, aug_lbs)\n",
    "    "
   ]
  },
  {
   "cell_type": "code",
   "execution_count": 210,
   "metadata": {
    "collapsed": false
   },
   "outputs": [],
   "source": [
    "def get_batches(batch_size, train=True):\n",
    "    filenames = None\n",
    "    if train: filenames = train_names\n",
    "    else: filenames = test_names\n",
    "    while True:\n",
    "        for i in range(0, len(filenames), batch_size):\n",
    "            images = []\n",
    "            labels = []\n",
    "            for img_name in filenames[i:i+batch_size]:\n",
    "                im = Image.open(\"ultrasound-nerve-segmentation/train/\"+img_name+\".tif\")\n",
    "                lb = Image.open(\"ultrasound-nerve-segmentation/train/\"+img_name+\"_mask.tif\")\n",
    "                im_arr = preprocess(im)\n",
    "                lb_arr = preprocess(lb)\n",
    "                images.append(im_arr)\n",
    "                labels.append(lb_arr)\n",
    "                \n",
    "                if train:\n",
    "                    aug_ims, aug_lbs = augment(im_arr, lb_arr)\n",
    "                    for im in aug_ims:\n",
    "                        images.append(im)\n",
    "                    for lb in aug_lbs:\n",
    "                        labels.append(lb)\n",
    "            ims = np.expand_dims(np.array(images, dtype='float32'), axis=3)\n",
    "            lbls = np.expand_dims(np.array(labels, dtype='float32'), axis=3)\n",
    "\n",
    "            mean = np.mean(ims)\n",
    "            std = np.std(ims)\n",
    "            ims -= mean\n",
    "            ims /= std\n",
    "            lbls /= 255.0\n",
    "\n",
    "            yield ims, lbls\n"
   ]
  },
  {
   "cell_type": "code",
   "execution_count": 213,
   "metadata": {
    "collapsed": true
   },
   "outputs": [],
   "source": [
    "import math\n",
    "def train(epochs):\n",
    "    \n",
    "    gen = get_batches(batch_size)\n",
    "    val = get_batches(batch_size, train=False)\n",
    "    model = build_net(img_width, img_height, batch_size, learning_rate)\n",
    "    checkpoint = ModelCheckpoint('model_weights.hd5', monitor='val_loss')\n",
    "    model.fit_generator(gen, epochs=epochs, steps_per_epoch=math.ceil(train_len/batch_size),\n",
    "                        validation_data=val, validation_steps=math.ceil(test_len/batch_size), \n",
    "                        verbose=1, callbacks=[checkpoint])\n",
    "  "
   ]
  },
  {
   "cell_type": "code",
   "execution_count": 214,
   "metadata": {
    "collapsed": false
   },
   "outputs": [
    {
     "name": "stdout",
     "output_type": "stream",
     "text": [
      "Epoch 1/10\n",
      "8/8 [==============================] - 7s 814ms/step - loss: 3.7201 - dice: 0.0253\n",
      "68/68 [==============================] - 751s 11s/step - loss: 4.0784 - dice: 0.0213 - val_loss: 3.7201 - val_dice: 0.0253\n",
      "Epoch 2/10\n",
      "8/8 [==============================] - 5s 616ms/step - loss: 3.5968 - dice: 0.0286\n",
      "68/68 [==============================] - 761s 11s/step - loss: 4.0360 - dice: 0.0222 - val_loss: 3.5968 - val_dice: 0.0286\n",
      "Epoch 3/10\n",
      "8/8 [==============================] - 6s 742ms/step - loss: 2.4301 - dice: 0.0913\n",
      "68/68 [==============================] - 798s 12s/step - loss: 3.4657 - dice: 0.0414 - val_loss: 2.4301 - val_dice: 0.0913\n",
      "Epoch 4/10\n",
      "45/68 [==================>...........] - ETA: 4:23 - loss: 2.6669 - dice: 0.0784"
     ]
    },
    {
     "ename": "KeyboardInterrupt",
     "evalue": "",
     "output_type": "error",
     "traceback": [
      "\u001b[0;31m---------------------------------------------------------------------------\u001b[0m",
      "\u001b[0;31mKeyboardInterrupt\u001b[0m                         Traceback (most recent call last)",
      "\u001b[0;32m<ipython-input-214-84557d09d340>\u001b[0m in \u001b[0;36m<module>\u001b[0;34m\u001b[0m\n\u001b[0;32m----> 1\u001b[0;31m \u001b[0mtrain\u001b[0m\u001b[0;34m(\u001b[0m\u001b[0;36m10\u001b[0m\u001b[0;34m)\u001b[0m\u001b[0;34m\u001b[0m\u001b[0;34m\u001b[0m\u001b[0m\n\u001b[0m",
      "\u001b[0;32m<ipython-input-213-89c860f5af63>\u001b[0m in \u001b[0;36mtrain\u001b[0;34m(epochs)\u001b[0m\n\u001b[1;32m      8\u001b[0m     model.fit_generator(gen, epochs=epochs, steps_per_epoch=math.ceil(train_len/batch_size),\n\u001b[1;32m      9\u001b[0m                         \u001b[0mvalidation_data\u001b[0m\u001b[0;34m=\u001b[0m\u001b[0mval\u001b[0m\u001b[0;34m,\u001b[0m \u001b[0mvalidation_steps\u001b[0m\u001b[0;34m=\u001b[0m\u001b[0mmath\u001b[0m\u001b[0;34m.\u001b[0m\u001b[0mceil\u001b[0m\u001b[0;34m(\u001b[0m\u001b[0mtest_len\u001b[0m\u001b[0;34m/\u001b[0m\u001b[0mbatch_size\u001b[0m\u001b[0;34m)\u001b[0m\u001b[0;34m,\u001b[0m\u001b[0;34m\u001b[0m\u001b[0;34m\u001b[0m\u001b[0m\n\u001b[0;32m---> 10\u001b[0;31m                         verbose=1, callbacks=[checkpoint])\n\u001b[0m\u001b[1;32m     11\u001b[0m \u001b[0;34m\u001b[0m\u001b[0m\n",
      "\u001b[0;32m~/miniconda3/envs/py36/lib/python3.6/site-packages/tensorflow/python/keras/engine/training.py\u001b[0m in \u001b[0;36mfit_generator\u001b[0;34m(self, generator, steps_per_epoch, epochs, verbose, callbacks, validation_data, validation_steps, class_weight, max_queue_size, workers, use_multiprocessing, shuffle, initial_epoch)\u001b[0m\n\u001b[1;32m   1424\u001b[0m         \u001b[0muse_multiprocessing\u001b[0m\u001b[0;34m=\u001b[0m\u001b[0muse_multiprocessing\u001b[0m\u001b[0;34m,\u001b[0m\u001b[0;34m\u001b[0m\u001b[0;34m\u001b[0m\u001b[0m\n\u001b[1;32m   1425\u001b[0m         \u001b[0mshuffle\u001b[0m\u001b[0;34m=\u001b[0m\u001b[0mshuffle\u001b[0m\u001b[0;34m,\u001b[0m\u001b[0;34m\u001b[0m\u001b[0;34m\u001b[0m\u001b[0m\n\u001b[0;32m-> 1426\u001b[0;31m         initial_epoch=initial_epoch)\n\u001b[0m\u001b[1;32m   1427\u001b[0m \u001b[0;34m\u001b[0m\u001b[0m\n\u001b[1;32m   1428\u001b[0m   def evaluate_generator(self,\n",
      "\u001b[0;32m~/miniconda3/envs/py36/lib/python3.6/site-packages/tensorflow/python/keras/engine/training_generator.py\u001b[0m in \u001b[0;36mmodel_iteration\u001b[0;34m(model, data, steps_per_epoch, epochs, verbose, callbacks, validation_data, validation_steps, class_weight, max_queue_size, workers, use_multiprocessing, shuffle, initial_epoch, mode, batch_size, **kwargs)\u001b[0m\n\u001b[1;32m    189\u001b[0m       \u001b[0mprogbar\u001b[0m\u001b[0;34m.\u001b[0m\u001b[0mon_batch_begin\u001b[0m\u001b[0;34m(\u001b[0m\u001b[0mstep\u001b[0m\u001b[0;34m,\u001b[0m \u001b[0mbatch_logs\u001b[0m\u001b[0;34m)\u001b[0m\u001b[0;34m\u001b[0m\u001b[0;34m\u001b[0m\u001b[0m\n\u001b[1;32m    190\u001b[0m \u001b[0;34m\u001b[0m\u001b[0m\n\u001b[0;32m--> 191\u001b[0;31m       \u001b[0mbatch_outs\u001b[0m \u001b[0;34m=\u001b[0m \u001b[0mbatch_function\u001b[0m\u001b[0;34m(\u001b[0m\u001b[0;34m*\u001b[0m\u001b[0mbatch_data\u001b[0m\u001b[0;34m)\u001b[0m\u001b[0;34m\u001b[0m\u001b[0;34m\u001b[0m\u001b[0m\n\u001b[0m\u001b[1;32m    192\u001b[0m       \u001b[0;32mif\u001b[0m \u001b[0;32mnot\u001b[0m \u001b[0misinstance\u001b[0m\u001b[0;34m(\u001b[0m\u001b[0mbatch_outs\u001b[0m\u001b[0;34m,\u001b[0m \u001b[0mlist\u001b[0m\u001b[0;34m)\u001b[0m\u001b[0;34m:\u001b[0m\u001b[0;34m\u001b[0m\u001b[0;34m\u001b[0m\u001b[0m\n\u001b[1;32m    193\u001b[0m         \u001b[0mbatch_outs\u001b[0m \u001b[0;34m=\u001b[0m \u001b[0;34m[\u001b[0m\u001b[0mbatch_outs\u001b[0m\u001b[0;34m]\u001b[0m\u001b[0;34m\u001b[0m\u001b[0;34m\u001b[0m\u001b[0m\n",
      "\u001b[0;32m~/miniconda3/envs/py36/lib/python3.6/site-packages/tensorflow/python/keras/engine/training.py\u001b[0m in \u001b[0;36mtrain_on_batch\u001b[0;34m(self, x, y, sample_weight, class_weight, reset_metrics)\u001b[0m\n\u001b[1;32m   1189\u001b[0m       \u001b[0;32melse\u001b[0m\u001b[0;34m:\u001b[0m\u001b[0;34m\u001b[0m\u001b[0;34m\u001b[0m\u001b[0m\n\u001b[1;32m   1190\u001b[0m         \u001b[0mself\u001b[0m\u001b[0;34m.\u001b[0m\u001b[0m_make_fit_function\u001b[0m\u001b[0;34m(\u001b[0m\u001b[0;34m)\u001b[0m\u001b[0;34m\u001b[0m\u001b[0;34m\u001b[0m\u001b[0m\n\u001b[0;32m-> 1191\u001b[0;31m         \u001b[0moutputs\u001b[0m \u001b[0;34m=\u001b[0m \u001b[0mself\u001b[0m\u001b[0;34m.\u001b[0m\u001b[0m_fit_function\u001b[0m\u001b[0;34m(\u001b[0m\u001b[0mins\u001b[0m\u001b[0;34m)\u001b[0m  \u001b[0;31m# pylint: disable=not-callable\u001b[0m\u001b[0;34m\u001b[0m\u001b[0;34m\u001b[0m\u001b[0m\n\u001b[0m\u001b[1;32m   1192\u001b[0m \u001b[0;34m\u001b[0m\u001b[0m\n\u001b[1;32m   1193\u001b[0m     \u001b[0;32mif\u001b[0m \u001b[0mreset_metrics\u001b[0m\u001b[0;34m:\u001b[0m\u001b[0;34m\u001b[0m\u001b[0;34m\u001b[0m\u001b[0m\n",
      "\u001b[0;32m~/miniconda3/envs/py36/lib/python3.6/site-packages/tensorflow/python/keras/backend.py\u001b[0m in \u001b[0;36m__call__\u001b[0;34m(self, inputs)\u001b[0m\n\u001b[1;32m   3074\u001b[0m \u001b[0;34m\u001b[0m\u001b[0m\n\u001b[1;32m   3075\u001b[0m     fetched = self._callable_fn(*array_vals,\n\u001b[0;32m-> 3076\u001b[0;31m                                 run_metadata=self.run_metadata)\n\u001b[0m\u001b[1;32m   3077\u001b[0m     \u001b[0mself\u001b[0m\u001b[0;34m.\u001b[0m\u001b[0m_call_fetch_callbacks\u001b[0m\u001b[0;34m(\u001b[0m\u001b[0mfetched\u001b[0m\u001b[0;34m[\u001b[0m\u001b[0;34m-\u001b[0m\u001b[0mlen\u001b[0m\u001b[0;34m(\u001b[0m\u001b[0mself\u001b[0m\u001b[0;34m.\u001b[0m\u001b[0m_fetches\u001b[0m\u001b[0;34m)\u001b[0m\u001b[0;34m:\u001b[0m\u001b[0;34m]\u001b[0m\u001b[0;34m)\u001b[0m\u001b[0;34m\u001b[0m\u001b[0;34m\u001b[0m\u001b[0m\n\u001b[1;32m   3078\u001b[0m     return nest.pack_sequence_as(self._outputs_structure,\n",
      "\u001b[0;32m~/miniconda3/envs/py36/lib/python3.6/site-packages/tensorflow/python/client/session.py\u001b[0m in \u001b[0;36m__call__\u001b[0;34m(self, *args, **kwargs)\u001b[0m\n\u001b[1;32m   1437\u001b[0m           ret = tf_session.TF_SessionRunCallable(\n\u001b[1;32m   1438\u001b[0m               \u001b[0mself\u001b[0m\u001b[0;34m.\u001b[0m\u001b[0m_session\u001b[0m\u001b[0;34m.\u001b[0m\u001b[0m_session\u001b[0m\u001b[0;34m,\u001b[0m \u001b[0mself\u001b[0m\u001b[0;34m.\u001b[0m\u001b[0m_handle\u001b[0m\u001b[0;34m,\u001b[0m \u001b[0margs\u001b[0m\u001b[0;34m,\u001b[0m \u001b[0mstatus\u001b[0m\u001b[0;34m,\u001b[0m\u001b[0;34m\u001b[0m\u001b[0;34m\u001b[0m\u001b[0m\n\u001b[0;32m-> 1439\u001b[0;31m               run_metadata_ptr)\n\u001b[0m\u001b[1;32m   1440\u001b[0m         \u001b[0;32mif\u001b[0m \u001b[0mrun_metadata\u001b[0m\u001b[0;34m:\u001b[0m\u001b[0;34m\u001b[0m\u001b[0;34m\u001b[0m\u001b[0m\n\u001b[1;32m   1441\u001b[0m           \u001b[0mproto_data\u001b[0m \u001b[0;34m=\u001b[0m \u001b[0mtf_session\u001b[0m\u001b[0;34m.\u001b[0m\u001b[0mTF_GetBuffer\u001b[0m\u001b[0;34m(\u001b[0m\u001b[0mrun_metadata_ptr\u001b[0m\u001b[0;34m)\u001b[0m\u001b[0;34m\u001b[0m\u001b[0;34m\u001b[0m\u001b[0m\n",
      "\u001b[0;31mKeyboardInterrupt\u001b[0m: "
     ]
    }
   ],
   "source": [
    "train(10)"
   ]
  },
  {
   "cell_type": "code",
   "execution_count": null,
   "metadata": {
    "collapsed": true
   },
   "outputs": [],
   "source": []
  }
 ],
 "metadata": {
  "kernelspec": {
   "display_name": "Python 3",
   "language": "python",
   "name": "python3"
  },
  "language_info": {
   "codemirror_mode": {
    "name": "ipython",
    "version": 3
   },
   "file_extension": ".py",
   "mimetype": "text/x-python",
   "name": "python",
   "nbconvert_exporter": "python",
   "pygments_lexer": "ipython3",
   "version": "3.6.8"
  }
 },
 "nbformat": 4,
 "nbformat_minor": 1
}
