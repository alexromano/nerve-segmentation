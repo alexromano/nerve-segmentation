{
 "cells": [
  {
   "cell_type": "code",
   "execution_count": 73,
   "metadata": {
    "collapsed": false
   },
   "outputs": [],
   "source": [
    "import numpy as np\n",
    "from sklearn.model_selection import train_test_split\n",
    "import os\n",
    "import matplotlib.pyplot as plt\n",
    "from PIL import Image\n",
    "import tensorflow as tf\n",
    "from tensorflow.keras.models import Model\n",
    "from tensorflow.keras.callbacks import ModelCheckpoint\n",
    "import tensorflow.keras.backend as K\n",
    "from tensorflow.keras.layers import Input, Conv2D, Conv2DTranspose, MaxPooling2D, concatenate\n",
    "from tensorflow.keras.optimizers import Adam\n",
    "\n",
    "%matplotlib inline"
   ]
  },
  {
   "cell_type": "code",
   "execution_count": 157,
   "metadata": {
    "collapsed": false
   },
   "outputs": [],
   "source": [
    "files = os.listdir(\"ultrasound-nerve-segmentation/train\")\n",
    "image_names = []\n",
    "for f in files:\n",
    "    if '_mask' not in f:\n",
    "        image_names.append(os.path.splitext(f)[0])"
   ]
  },
  {
   "cell_type": "code",
   "execution_count": 158,
   "metadata": {
    "collapsed": true
   },
   "outputs": [],
   "source": [
    "img_width = 128\n",
    "img_height = 128\n",
    "batch_size = 32\n",
    "learning_rate = 1e-5"
   ]
  },
  {
   "cell_type": "code",
   "execution_count": 159,
   "metadata": {
    "collapsed": true
   },
   "outputs": [],
   "source": [
    "# a smoothed version of dice coefficient\n",
    "def dice(y, y_pred):\n",
    "    intersection = K.sum(K.flatten(y) * K.flatten(y_pred))\n",
    "    return (2.0 * intersection + 1) / (K.sum(y) + K.sum(y_pred) + 1)\n",
    "\n",
    "def dice_loss(y, y_pred):\n",
    "    return -tf.log(dice(y, y_pred))"
   ]
  },
  {
   "cell_type": "code",
   "execution_count": 160,
   "metadata": {
    "collapsed": false
   },
   "outputs": [],
   "source": [
    "# Build U-Net/FCN style model\n",
    "def build_net(img_width, img_height, batch_size, learning_rate):\n",
    "    input_images = Input(shape=(img_width,img_height,1),batch_size=batch_size, name='input')\n",
    "    conv1 = Conv2D(32, (3,3), activation='relu', padding='same')(input_images)\n",
    "    conv1 = Conv2D(32, (3,3), activation='relu', padding='same')(conv1)\n",
    "    pool1 = MaxPooling2D(2)(conv1)\n",
    "\n",
    "    conv2 = Conv2D(64, (3,3), activation='relu', padding='same')(pool1)\n",
    "    conv2 = Conv2D(64, (3,3), activation='relu', padding='same')(conv2)\n",
    "    pool2 = MaxPooling2D(2)(conv2)\n",
    "\n",
    "    conv3 = Conv2D(128, (3,3), activation='relu', padding='same')(pool2)\n",
    "    conv3 = Conv2D(128, (3,3), activation='relu', padding='same')(conv3)\n",
    "    pool3 = MaxPooling2D(2)(conv3)\n",
    "\n",
    "    conv4 = Conv2D(256, (3,3), activation='relu', padding='same')(pool3)\n",
    "    conv4 = Conv2D(256, (3,3), activation='relu', padding='same')(conv4)\n",
    "    pool4 = MaxPooling2D(2)(conv4)\n",
    "\n",
    "    conv5 = Conv2D(512, (3,3), activation='relu', padding='same')(pool4)\n",
    "    conv5 = Conv2D(512, (3,3), activation='relu', padding='same')(conv5)\n",
    "\n",
    "    conv6 = concatenate([Conv2DTranspose(256, (2,2), strides=(2,2), padding='same')(conv5), conv4])\n",
    "    conv6 = Conv2D(256, (3,3), activation='relu', padding='same')(conv6)\n",
    "    conv6 = Conv2D(256, (3,3), activation='relu', padding='same')(conv6)\n",
    "\n",
    "    conv7 = concatenate([Conv2DTranspose(128, (2,2), strides=(2,2), padding='same')(conv6), conv3])\n",
    "    conv7 = Conv2D(128, (3,3), activation='relu', padding='same')(conv7)\n",
    "    conv7 = Conv2D(128, (3,3), activation='relu', padding='same')(conv7)\n",
    "\n",
    "    conv8 = concatenate([Conv2DTranspose(64, (2,2), strides=(2,2), padding='same')(conv7), conv2])\n",
    "    conv8 = Conv2D(64, (3,3), activation='relu', padding='same')(conv8)\n",
    "    conv8 = Conv2D(64, (3,3), activation='relu', padding='same')(conv8)\n",
    "\n",
    "    conv9 = concatenate([Conv2DTranspose(32, (2,2), strides=(2,2), padding='same')(conv8), conv1])\n",
    "    conv9 = Conv2D(32, (3,3), activation='relu', padding='same')(conv9)\n",
    "    conv9 = Conv2D(32, (3,3), activation='relu', padding='same')(conv9)\n",
    "\n",
    "    output = Conv2D(1, (1,1), activation='sigmoid')(conv9)\n",
    "\n",
    "    model = Model(inputs=[input_images], outputs=[output])\n",
    "    model.compile(optimizer=Adam(lr=learning_rate), loss=dice_loss, metrics=[dice])\n",
    "    \n",
    "    return model"
   ]
  },
  {
   "cell_type": "code",
   "execution_count": 161,
   "metadata": {
    "collapsed": true
   },
   "outputs": [],
   "source": [
    "def preprocess(im):\n",
    "    im_arr = np.asarray(im.resize((img_width, img_height)))\n",
    "    return im_arr\n",
    "\n",
    "def augment(img):\n",
    "    #flip h\n",
    "    #flip v\n",
    "    #rotate\n",
    "    pass\n",
    "    "
   ]
  },
  {
   "cell_type": "code",
   "execution_count": 162,
   "metadata": {
    "collapsed": false
   },
   "outputs": [],
   "source": [
    "def get_batches(batch_size):\n",
    "    while True:\n",
    "        for i in range(0, len(train_names), batch_size):\n",
    "            images = []\n",
    "            labels = []\n",
    "            for train_name in train_names[i:i+batch_size]:\n",
    "                im = Image.open(\"ultrasound-nerve-segmentation/train/\"+train_name+\".tif\")\n",
    "                lb = Image.open(\"ultrasound-nerve-segmentation/train/\"+train_name+\"_mask.tif\")\n",
    "\n",
    "                im_arr = preprocess(im)\n",
    "                lb_arr = preprocess(lb)\n",
    "    #             augment(im_arr)\n",
    "                images.append(np.expand_dims(im_arr, axis=2))\n",
    "                labels.append(np.expand_dims(lb_arr, axis=2))\n",
    "\n",
    "            ims = np.array(images, dtype='float32')\n",
    "            lbls = np.array(labels)\n",
    "\n",
    "            mean = np.mean(ims)\n",
    "            std = np.std(ims)\n",
    "            ims -= mean\n",
    "            ims /= std\n",
    "            lbls = lbls.astype('float32')\n",
    "            lbls /= 255.0\n",
    "\n",
    "            yield ims, lbls"
   ]
  },
  {
   "cell_type": "code",
   "execution_count": 163,
   "metadata": {
    "collapsed": true
   },
   "outputs": [],
   "source": [
    "import math\n",
    "def train(epochs):\n",
    "    \n",
    "    gen = get_batches(batch_size)\n",
    "    \n",
    "    model = build_net(img_width, img_height, batch_size, learning_rate)\n",
    "    checkpoint = ModelCheckpoint('model_weights.hd5', monitor='val_loss')\n",
    "    model.fit_generator(gen, epochs=epochs, steps_per_epoch=math.ceil(5071/batch_size),\n",
    "                        verbose=1, callbacks=[checkpoint])\n",
    "    "
   ]
  },
  {
   "cell_type": "code",
   "execution_count": 164,
   "metadata": {
    "collapsed": false
   },
   "outputs": [
    {
     "name": "stdout",
     "output_type": "stream",
     "text": [
      "Epoch 1/50\n",
      "10/10 [==============================] - 47s 5s/step - loss: 3.8377 - dice: 0.0229\n",
      "Epoch 2/50\n",
      "10/10 [==============================] - 20s 2s/step - loss: 3.8351 - dice: 0.0230\n",
      "Epoch 3/50\n",
      "10/10 [==============================] - 22s 2s/step - loss: 3.8325 - dice: 0.0231\n",
      "Epoch 4/50\n",
      "10/10 [==============================] - 21s 2s/step - loss: 3.8300 - dice: 0.0231\n",
      "Epoch 5/50\n",
      "10/10 [==============================] - 21s 2s/step - loss: 3.8275 - dice: 0.0232\n",
      "Epoch 6/50\n",
      "10/10 [==============================] - 20s 2s/step - loss: 3.8250 - dice: 0.0232\n",
      "Epoch 7/50\n",
      "10/10 [==============================] - 20s 2s/step - loss: 3.8224 - dice: 0.0233\n",
      "Epoch 8/50\n",
      "10/10 [==============================] - 20s 2s/step - loss: 3.8197 - dice: 0.0234\n",
      "Epoch 9/50\n",
      "10/10 [==============================] - 21s 2s/step - loss: 3.8167 - dice: 0.0234\n",
      "Epoch 10/50\n",
      "10/10 [==============================] - 21s 2s/step - loss: 3.8135 - dice: 0.0235\n",
      "Epoch 11/50\n",
      "10/10 [==============================] - 22s 2s/step - loss: 3.8098 - dice: 0.0236\n",
      "Epoch 12/50\n",
      "10/10 [==============================] - 22s 2s/step - loss: 3.8053 - dice: 0.0237\n",
      "Epoch 13/50\n",
      "10/10 [==============================] - 21s 2s/step - loss: 3.7996 - dice: 0.0239\n",
      "Epoch 14/50\n",
      "10/10 [==============================] - 21s 2s/step - loss: 3.7914 - dice: 0.0241\n",
      "Epoch 15/50\n",
      "10/10 [==============================] - 21s 2s/step - loss: 3.7778 - dice: 0.0244\n",
      "Epoch 16/50\n",
      "10/10 [==============================] - 22s 2s/step - loss: 3.7531 - dice: 0.0250\n",
      "Epoch 17/50\n",
      "10/10 [==============================] - 20s 2s/step - loss: 3.7021 - dice: 0.0263\n",
      "Epoch 18/50\n",
      "10/10 [==============================] - 22s 2s/step - loss: 3.5758 - dice: 0.0300\n",
      "Epoch 19/50\n",
      "10/10 [==============================] - 21s 2s/step - loss: 3.2564 - dice: 0.0415\n",
      "Epoch 20/50\n",
      "10/10 [==============================] - 20s 2s/step - loss: 2.7079 - dice: 0.0707\n",
      "Epoch 21/50\n",
      "10/10 [==============================] - 21s 2s/step - loss: 2.2107 - dice: 0.1179\n",
      "Epoch 22/50\n",
      "10/10 [==============================] - 20s 2s/step - loss: 2.0963 - dice: 0.1344\n",
      "Epoch 23/50\n",
      "10/10 [==============================] - 21s 2s/step - loss: 2.0768 - dice: 0.1324\n",
      "Epoch 24/50\n",
      "10/10 [==============================] - 22s 2s/step - loss: 2.6593 - dice: 0.1192\n",
      "Epoch 25/50\n",
      "10/10 [==============================] - 20s 2s/step - loss: 2.4251 - dice: 0.0986\n",
      "Epoch 26/50\n",
      "10/10 [==============================] - 20s 2s/step - loss: 2.3266 - dice: 0.1239\n",
      "Epoch 27/50\n",
      "10/10 [==============================] - 20s 2s/step - loss: 2.0291 - dice: 0.1417\n",
      "Epoch 28/50\n",
      "10/10 [==============================] - 21s 2s/step - loss: 1.7731 - dice: 0.1769\n",
      "Epoch 29/50\n",
      "10/10 [==============================] - 20s 2s/step - loss: 1.9599 - dice: 0.1741\n",
      "Epoch 30/50\n",
      "10/10 [==============================] - 19s 2s/step - loss: 2.2039 - dice: 0.1196\n",
      "Epoch 31/50\n",
      "10/10 [==============================] - 19s 2s/step - loss: 1.9766 - dice: 0.1670\n",
      "Epoch 32/50\n",
      "10/10 [==============================] - 19s 2s/step - loss: 2.0923 - dice: 0.1337\n",
      "Epoch 33/50\n",
      "10/10 [==============================] - 18s 2s/step - loss: 1.8842 - dice: 0.1764\n",
      "Epoch 34/50\n",
      "10/10 [==============================] - 19s 2s/step - loss: 1.9287 - dice: 0.1565\n",
      "Epoch 35/50\n",
      "10/10 [==============================] - 19s 2s/step - loss: 1.6936 - dice: 0.1925\n",
      "Epoch 36/50\n",
      "10/10 [==============================] - 19s 2s/step - loss: 1.7505 - dice: 0.1908\n",
      "Epoch 37/50\n",
      "10/10 [==============================] - 19s 2s/step - loss: 1.5334 - dice: 0.2298\n",
      "Epoch 38/50\n",
      "10/10 [==============================] - 19s 2s/step - loss: 1.5582 - dice: 0.2296\n",
      "Epoch 39/50\n",
      "10/10 [==============================] - 19s 2s/step - loss: 1.6065 - dice: 0.2244\n",
      "Epoch 40/50\n",
      "10/10 [==============================] - 19s 2s/step - loss: 1.4732 - dice: 0.2484\n",
      "Epoch 41/50\n",
      "10/10 [==============================] - 19s 2s/step - loss: 1.4286 - dice: 0.2575\n",
      "Epoch 42/50\n",
      "10/10 [==============================] - 19s 2s/step - loss: 1.3906 - dice: 0.2656\n",
      "Epoch 43/50\n",
      "10/10 [==============================] - 22s 2s/step - loss: 1.3605 - dice: 0.2717\n",
      "Epoch 44/50\n",
      "10/10 [==============================] - 20s 2s/step - loss: 1.3439 - dice: 0.2739\n",
      "Epoch 45/50\n",
      "10/10 [==============================] - 20s 2s/step - loss: 1.3575 - dice: 0.2686\n",
      "Epoch 46/50\n",
      "10/10 [==============================] - 20s 2s/step - loss: 1.4309 - dice: 0.2495\n",
      "Epoch 47/50\n",
      "10/10 [==============================] - 20s 2s/step - loss: 1.5093 - dice: 0.2486\n",
      "Epoch 48/50\n",
      "10/10 [==============================] - 20s 2s/step - loss: 1.8452 - dice: 0.1705\n",
      "Epoch 49/50\n",
      "10/10 [==============================] - 22s 2s/step - loss: 1.5287 - dice: 0.2278\n",
      "Epoch 50/50\n",
      "10/10 [==============================] - 20s 2s/step - loss: 1.6220 - dice: 0.2186\n"
     ]
    }
   ],
   "source": [
    "train(50)"
   ]
  },
  {
   "cell_type": "code",
   "execution_count": null,
   "metadata": {
    "collapsed": true
   },
   "outputs": [],
   "source": []
  }
 ],
 "metadata": {
  "kernelspec": {
   "display_name": "Python 3",
   "language": "python",
   "name": "python3"
  },
  "language_info": {
   "codemirror_mode": {
    "name": "ipython",
    "version": 3
   },
   "file_extension": ".py",
   "mimetype": "text/x-python",
   "name": "python",
   "nbconvert_exporter": "python",
   "pygments_lexer": "ipython3",
   "version": "3.6.8"
  }
 },
 "nbformat": 4,
 "nbformat_minor": 1
}
